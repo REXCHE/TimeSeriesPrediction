{
  "nbformat": 4,
  "nbformat_minor": 0,
  "metadata": {
    "colab": {
      "name": "Time_Series_ML-LR_XGBoost.ipynb",
      "provenance": [],
      "collapsed_sections": [],
      "toc_visible": true,
      "authorship_tag": "ABX9TyOdMZMF6TiRdiM86EdECu2r",
      "include_colab_link": true
    },
    "kernelspec": {
      "name": "python3",
      "display_name": "Python 3"
    },
    "accelerator": "TPU"
  },
  "cells": [
    {
      "cell_type": "markdown",
      "metadata": {
        "id": "view-in-github",
        "colab_type": "text"
      },
      "source": [
        "<a href=\"https://colab.research.google.com/github/phylypo/TimeSeriesPrediction/blob/main/Time_Series_ML_LR_XGBoost.ipynb\" target=\"_parent\"><img src=\"https://colab.research.google.com/assets/colab-badge.svg\" alt=\"Open In Colab\"/></a>"
      ]
    },
    {
      "cell_type": "markdown",
      "metadata": {
        "id": "vIlckAtNOluD"
      },
      "source": [
        "# Overview of Time Series Forecasting from Statistical to Recent ML Approaches \n",
        "\n",
        "Topics for this notebook in bold:\n",
        "- Introduction to TS\n",
        "- Decompose (*Time_Series_FFT.ipynb*)\n",
        " - Gen Synthic\n",
        " - Decompose FFT\n",
        "- Naive approaches\n",
        "- Statistical (*Time_Series_ES_ARIMA.ipynb*)\n",
        " - Smoothing techniques\n",
        " - ARIMA\n",
        " - State Space (*Time_Series_StateSpace.ipynb*)\n",
        "- **ML (*Time_Series_ML-LR_XGBoost.ipynb*)**\n",
        "  - **Linear Regression**\n",
        "  - **Decision Tree (XGBoost)**\n",
        "- DL (*Time_Series_DL_LSTM_CNN.ipynb*)\n",
        " - LSTM, CNN + LSTM\n",
        " - TCN (*Time_Series_DL_TCN_LSTNet.ipynb*)\n",
        " - LSTNet\n",
        " - TFT (*Time_Series_DL_TFT_N-BEATS.ipynb*)\n",
        " - N-BEATS\n",
        "- Commercial: (*Time_Series_Commercial.ipynb*)\n",
        " - Facebook Prophet\n",
        " - Amazon DeepAR"
      ]
    },
    {
      "cell_type": "markdown",
      "metadata": {
        "id": "oGn-arG0-Vcr"
      },
      "source": [
        "## ML: Classical Approaches\n",
        "ML approaches was not developed specifically for time series, but we can make it accept time series data. Other models earlier was develop for temporal data/time series on their cores. We'll explore basic supervise learning techniques:\n",
        "\n",
        "- Linear Regression\n",
        "- Decision Tree with XGBoost (Gradient Boosted Tree) - showed great performance within Kaggle community\n",
        "\n",
        "Shown in this chart, the topic will be discussing is the supervised learning technique under regression. That is under regression analysis and regression tree for XGBoost.\n",
        "\n",
        "![](https://ars.els-cdn.com/content/image/1-s2.0-S157401372030071X-gr3.jpg)\n"
      ]
    },
    {
      "cell_type": "markdown",
      "metadata": {
        "id": "KJbR4XW9AJXk"
      },
      "source": [
        "### Generating Features\n",
        "In earlier statistical approaches like ARIMA, the system was built for time series data. For ML, we need to generate features that the ML algorithms can use. Some of the features include:\n",
        "- lags : value at time step t-N\n",
        "- amplitude: amplitude from the mean value\n",
        "- max/min value: max or min value at that window\n",
        "- value > 1 std : count of value great than 1 standard deviation\n",
        "\n",
        "![auto features gen](https://github.com/blue-yonder/tsfresh/raw/main/docs/images/introduction_ts_exa_features.png)\n",
        "\n",
        "There is a library [cesium](https://github.com/cesium-ml/cesium) that provides features generation.\n",
        "\n",
        "\n",
        "**We will just use lags values for our features.** To generate lag feature we just use the data and shift by one per each lag. For example for 3 features, we can use 3 lags value, lag_1: shift data by 1 and lag_2 shift by 2 and so forth.\n",
        "\n"
      ]
    },
    {
      "cell_type": "code",
      "metadata": {
        "id": "d6YRsAF74uL6",
        "colab": {
          "base_uri": "https://localhost:8080/"
        },
        "outputId": "0f7b3be7-b306-4532-cf50-6eb57943579c"
      },
      "source": [
        "!curl -O https://assets.digitalocean.com/articles/eng_python/prophet/AirPassengers.csv\n",
        "\n",
        "# load the dataset\n",
        "from pandas import read_csv\n",
        "series = read_csv('AirPassengers.csv', header=0, index_col=0)\n",
        "values = series.values"
      ],
      "execution_count": null,
      "outputs": [
        {
          "output_type": "stream",
          "text": [
            "  % Total    % Received % Xferd  Average Speed   Time    Time     Time  Current\n",
            "                                 Dload  Upload   Total   Spent    Left  Speed\n",
            "\r  0     0    0     0    0     0      0      0 --:--:-- --:--:-- --:--:--     0\r100  1748  100  1748    0     0  14096      0 --:--:-- --:--:-- --:--:-- 14096\n"
          ],
          "name": "stdout"
        }
      ]
    },
    {
      "cell_type": "code",
      "metadata": {
        "id": "CWC6I-VOcMHO",
        "colab": {
          "base_uri": "https://localhost:8080/"
        },
        "outputId": "a4216e84-2d89-49b8-ca74-b1d7fded796f"
      },
      "source": [
        "# Generate lags features\n",
        "\n",
        "#https://machinelearningmastery.com/xgboost-for-time-series-forecasting/\n",
        "import numpy as np\n",
        "import pandas as pd\n",
        "from pandas import read_csv\n",
        "from pandas import concat\n",
        "\n",
        " \n",
        "# transform a time series dataset into a supervised learning dataset\n",
        "def gen_features(data, n_in=1, n_out=1, dropnan=True):\n",
        "\tn_vars = 1 if type(data) is list else data.shape[1]\n",
        "\tdf = pd.DataFrame(data)\n",
        "\tcols = list()\n",
        "\t# input sequence (t-n, ... t-1)\n",
        "\tfor i in range(n_in, 0, -1):\n",
        "\t\tcols.append(df.shift(i))\n",
        "\t# forecast sequence (t, t+1, ... t+n)\n",
        "\tfor i in range(0, n_out):\n",
        "\t\tcols.append(df.shift(-i))\n",
        "\t# put it all together\n",
        "\tagg = concat(cols, axis=1)\n",
        "\t# drop rows with NaN values\n",
        "\tif dropnan:\n",
        "\t\tagg.dropna(inplace=True)\n",
        "\treturn agg.values\n",
        "\n",
        "\n",
        "# example feature gen\n",
        "f = gen_features(values, n_in=12, dropnan=False)\n",
        "\n",
        "np.set_printoptions(edgeitems=30, linewidth=1000, \n",
        "    formatter=dict(float=lambda x: \"%.3g\" % x))\n",
        "print(\"Features:\", f[0:15])"
      ],
      "execution_count": null,
      "outputs": [
        {
          "output_type": "stream",
          "text": [
            "Time series:\n",
            " [[112]\n",
            " [118]\n",
            " [132]\n",
            " [129]\n",
            " [121]\n",
            " [135]\n",
            " [148]\n",
            " [148]\n",
            " [136]\n",
            " [119]\n",
            " [104]\n",
            " [118]\n",
            " [115]\n",
            " [126]\n",
            " [141]]\n"
          ],
          "name": "stdout"
        },
        {
          "output_type": "execute_result",
          "data": {
            "text/plain": [
              "array([[nan, nan, nan, nan, nan, nan, nan, nan, nan, nan, nan, nan, 112],\n",
              "       [nan, nan, nan, nan, nan, nan, nan, nan, nan, nan, nan, 112, 118],\n",
              "       [nan, nan, nan, nan, nan, nan, nan, nan, nan, nan, 112, 118, 132],\n",
              "       [nan, nan, nan, nan, nan, nan, nan, nan, nan, 112, 118, 132, 129],\n",
              "       [nan, nan, nan, nan, nan, nan, nan, nan, 112, 118, 132, 129, 121],\n",
              "       [nan, nan, nan, nan, nan, nan, nan, 112, 118, 132, 129, 121, 135],\n",
              "       [nan, nan, nan, nan, nan, nan, 112, 118, 132, 129, 121, 135, 148],\n",
              "       [nan, nan, nan, nan, nan, 112, 118, 132, 129, 121, 135, 148, 148],\n",
              "       [nan, nan, nan, nan, 112, 118, 132, 129, 121, 135, 148, 148, 136],\n",
              "       [nan, nan, nan, 112, 118, 132, 129, 121, 135, 148, 148, 136, 119],\n",
              "       [nan, nan, 112, 118, 132, 129, 121, 135, 148, 148, 136, 119, 104],\n",
              "       [nan, 112, 118, 132, 129, 121, 135, 148, 148, 136, 119, 104, 118],\n",
              "       [112, 118, 132, 129, 121, 135, 148, 148, 136, 119, 104, 118, 115],\n",
              "       [118, 132, 129, 121, 135, 148, 148, 136, 119, 104, 118, 115, 126],\n",
              "       [132, 129, 121, 135, 148, 148, 136, 119, 104, 118, 115, 126, 141]])"
            ]
          },
          "metadata": {
            "tags": []
          },
          "execution_count": 22
        }
      ]
    },
    {
      "cell_type": "markdown",
      "metadata": {
        "id": "fJwHwzcjj1O5"
      },
      "source": [
        "### Linear Regression"
      ]
    },
    {
      "cell_type": "code",
      "metadata": {
        "id": "ADelCCV_j04Z"
      },
      "source": [
        "# https://machinelearningmastery.com/xgboost-for-time-series-forecasting/\n",
        "\n",
        "from numpy import asarray\n",
        "from pandas import read_csv\n",
        "from pandas import DataFrame\n",
        "from pandas import concat\n",
        "from sklearn.metrics import mean_absolute_error\n",
        "from xgboost import XGBRegressor\n",
        "from matplotlib import pyplot\n",
        "from pandas import read_csv\n",
        "from sklearn import linear_model\n",
        "\n",
        "# split a univariate dataset into train/test sets\n",
        "def train_test_split(data, n_test):\n",
        "\treturn data[:-n_test, :], data[-n_test:, :]\n",
        " \n",
        "# fit an linear_reg_forecast model and make a one step prediction\n",
        "def linear_reg_forecast(train, testX):\n",
        "\t# transform list into array\n",
        "\ttrain = asarray(train)\n",
        "\t# split into input and output columns\n",
        "\ttrainX, trainy = train[:, :-1], train[:, -1]\n",
        "\tmodel = linear_model.LinearRegression()\n",
        "\tmodel.fit(trainX, trainy)\n",
        "\t# make a one-step prediction\n",
        "\tyhat = model.predict(asarray([testX]))\n",
        "\treturn yhat[0]\n",
        " \n",
        "# walk-forward validation for univariate data\n",
        "def walk_forward_validation(data, n_test):\n",
        "\tpredictions = list()\n",
        "\t# split dataset\n",
        "\ttrain, test = train_test_split(data, n_test)\n",
        "\t# seed history with training dataset\n",
        "\thistory = [x for x in train]\n",
        "\t# step over each time-step in the test set\n",
        "\tfor i in range(len(test)):\n",
        "\t\t# split test row into input and output columns\n",
        "\t\ttestX, testy = test[i, :-1], test[i, -1]\n",
        "\t\t# fit model on history and make a prediction\n",
        "\t\tyhat = linear_reg_forecast(history, testX)\n",
        "\t\t# store forecast in list of predictions\n",
        "\t\tpredictions.append(yhat)\n",
        "\t\t# add actual observation to history for the next loop\n",
        "\t\thistory.append(test[i])\n",
        "\t\t# summarize progress\n",
        "\t\tprint('>expected=%.1f, predicted=%.1f' % (testy, yhat))\n",
        "\t# estimate prediction error\n",
        "\terror = mean_absolute_error(test[:, -1], predictions)\n",
        "\treturn error, test[:, -1], predictions"
      ],
      "execution_count": null,
      "outputs": []
    },
    {
      "cell_type": "code",
      "metadata": {
        "id": "A4uK4fMUj50X",
        "colab": {
          "base_uri": "https://localhost:8080/",
          "height": 486
        },
        "outputId": "4f5d8f3a-708e-42b2-e16e-8915fbf7db3f"
      },
      "source": [
        "# load the dataset\n",
        "series = read_csv('AirPassengers.csv', header=0, index_col=0)\n",
        "values = series.values\n",
        "\n",
        "# transform the time series data into supervised learning\n",
        "data = gen_features(values, n_in=12)\n",
        "\n",
        "# evaluate\n",
        "mae, y, yhat = walk_forward_validation(data, 12)\n",
        "print('MAE: %.3f' % mae) # MAE: 25.608\n",
        "# plot expected vs preducted\n",
        "pyplot.plot(y, label='Expected')\n",
        "pyplot.plot(yhat, label='Predicted')\n",
        "pyplot.legend()\n",
        "pyplot.show()"
      ],
      "execution_count": null,
      "outputs": [
        {
          "output_type": "stream",
          "text": [
            ">expected=417.0, predicted=395.3\n",
            ">expected=391.0, predicted=393.8\n",
            ">expected=419.0, predicted=424.9\n",
            ">expected=461.0, predicted=423.5\n",
            ">expected=472.0, predicted=488.1\n",
            ">expected=535.0, predicted=506.1\n",
            ">expected=622.0, predicted=612.7\n",
            ">expected=606.0, predicted=607.8\n",
            ">expected=508.0, predicted=532.1\n",
            ">expected=461.0, predicted=439.6\n",
            ">expected=390.0, predicted=422.5\n",
            ">expected=432.0, predicted=421.8\n",
            "MAE: 17.688\n"
          ],
          "name": "stdout"
        },
        {
          "output_type": "display_data",
          "data": {
            "image/png": "[encoded data removed]",
            "text/plain": [
              "<Figure size 432x288 with 1 Axes>"
            ]
          },
          "metadata": {
            "tags": [],
            "needs_background": "light"
          }
        }
      ]
    },
    {
      "cell_type": "markdown",
      "metadata": {
        "id": "a4lVaQqjb6t-"
      },
      "source": [
        "### XGBoost"
      ]
    },
    {
      "cell_type": "code",
      "metadata": {
        "id": "ohkFuzntacLy"
      },
      "source": [
        "# forecast monthly births with xgboost\n",
        "from numpy import asarray\n",
        "from pandas import read_csv\n",
        "from pandas import DataFrame\n",
        "from pandas import concat\n",
        "from sklearn.metrics import mean_absolute_error\n",
        "from xgboost import XGBRegressor\n",
        "from matplotlib import pyplot\n",
        " \n",
        "# split a univariate dataset into train/test sets\n",
        "def train_test_split(data, n_test):\n",
        "\treturn data[:-n_test, :], data[-n_test:, :]\n",
        " \n",
        "# fit an xgboost model and make a one step prediction\n",
        "def xgboost_forecast(train, testX):\n",
        "\t# transform list into array\n",
        "\ttrain = asarray(train)\n",
        "\t# split into input and output columns\n",
        "\ttrainX, trainy = train[:, :-1], train[:, -1]\n",
        "\t# fit model\n",
        "\tmodel = XGBRegressor(objective='reg:squarederror', n_estimators=500) #1000\n",
        "\tmodel.fit(trainX, trainy)\n",
        "\t# make a one-step prediction\n",
        "\tyhat = model.predict(asarray([testX]))\n",
        "\treturn yhat[0]\n",
        " \n",
        "# walk-forward validation for univariate data\n",
        "def walk_forward_validation(data, n_test):\n",
        "\tpredictions = list()\n",
        "\t# split dataset\n",
        "\ttrain, test = train_test_split(data, n_test)\n",
        "\t# seed history with training dataset\n",
        "\thistory = [x for x in train]\n",
        "\t# step over each time-step in the test set\n",
        "\tfor i in range(len(test)):\n",
        "\t\t# split test row into input and output columns\n",
        "\t\ttestX, testy = test[i, :-1], test[i, -1]\n",
        "\t\t# fit model on history and make a prediction\n",
        "\t\tyhat = xgboost_forecast(history, testX)\n",
        "\t\t# store forecast in list of predictions\n",
        "\t\tpredictions.append(yhat)\n",
        "\t\t# add actual observation to history for the next loop\n",
        "\t\thistory.append(test[i])\n",
        "\t\t# summarize progress\n",
        "\t\tprint('>expected=%.1f, predicted=%.1f' % (testy, yhat))\n",
        "\t# estimate prediction error\n",
        "\terror = mean_absolute_error(test[:, -1], predictions)\n",
        "\treturn error, test[:, -1], predictions"
      ],
      "execution_count": null,
      "outputs": []
    },
    {
      "cell_type": "code",
      "metadata": {
        "id": "2r3ObcxS4ual",
        "colab": {
          "base_uri": "https://localhost:8080/",
          "height": 486
        },
        "outputId": "2ddc75ab-4743-4738-ecf9-2d31d2107e56"
      },
      "source": [
        "# load the dataset\n",
        "series = read_csv('AirPassengers.csv', header=0, index_col=0)\n",
        "values = series.values\n",
        "\n",
        "# transform the time series data into supervised learning\n",
        "data = gen_features(values, n_in=12)\n",
        "\n",
        "# evaluate\n",
        "mae, y, yhat = walk_forward_validation(data, 12)\n",
        "print('MAE: %.3f' % mae) # MAE: 25.608\n",
        "# plot expected vs preducted\n",
        "pyplot.plot(y, label='Expected')\n",
        "pyplot.plot(yhat, label='Predicted')\n",
        "pyplot.legend()\n",
        "pyplot.show()"
      ],
      "execution_count": null,
      "outputs": [
        {
          "output_type": "stream",
          "text": [
            ">expected=417.0, predicted=384.8\n",
            ">expected=391.0, predicted=403.8\n",
            ">expected=419.0, predicted=459.7\n",
            ">expected=461.0, predicted=437.5\n",
            ">expected=472.0, predicted=465.7\n",
            ">expected=535.0, predicted=506.3\n",
            ">expected=622.0, predicted=550.9\n",
            ">expected=606.0, predicted=617.6\n",
            ">expected=508.0, predicted=494.8\n",
            ">expected=461.0, predicted=457.5\n",
            ">expected=390.0, predicted=452.8\n",
            ">expected=432.0, predicted=431.4\n",
            "MAE: 25.584\n"
          ],
          "name": "stdout"
        },
        {
          "output_type": "display_data",
          "data": {
            "image/png": "[encoded data removed]",
            "text/plain": [
              "<Figure size 432x288 with 1 Axes>"
            ]
          },
          "metadata": {
            "tags": [],
            "needs_background": "light"
          }
        }
      ]
    },
    {
      "cell_type": "markdown",
      "metadata": {
        "id": "aU74cwZcOJxl"
      },
      "source": [
        "## Summary"
      ]
    },
    {
      "cell_type": "markdown",
      "metadata": {
        "id": "-YC3X7-FclAu"
      },
      "source": [
        "In machine learning approach, required the input to be format into features. The typical linear regression is not that bad. XGBoost was used in Kaggle competition winner. \n",
        "\n",
        "Next notebook will cover the deep learning, the sequence to sequence approach like RNN and LSTM."
      ]
    }
  ]
}